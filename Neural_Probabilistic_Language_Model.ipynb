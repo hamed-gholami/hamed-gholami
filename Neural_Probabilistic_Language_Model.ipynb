{
  "nbformat": 4,
  "nbformat_minor": 0,
  "metadata": {
    "colab": {
      "name": "Neural_Probabilistic_Language_Model.ipynb",
      "provenance": [],
      "collapsed_sections": []
    },
    "kernelspec": {
      "name": "python3",
      "display_name": "Python 3"
    },
    "language_info": {
      "name": "python"
    }
  },
  "cells": [
    {
      "cell_type": "code",
      "execution_count": null,
      "metadata": {
        "id": "VF8cA90H8kvk"
      },
      "outputs": [],
      "source": [
        "import torch\n",
        "import torch.nn as nn\n",
        "import torch.optim as optim \n",
        "\n",
        "def make_batch():\n",
        "    \"\"\"\n",
        "  extracts words of each sentence in the sentences, then appends a list\n",
        "  of the first n-1 words to the input_batch and the target to the target_batch.\n",
        "\n",
        "  Returns: \n",
        "  - input_batch: a list of inputs, the i-th input is a list of first n-1 words\n",
        "                  of the i-th sentence in the sentences\n",
        "  - target_batch: a list of targets, the i-th target is the last word of the \n",
        "                  i-th sentence in the sentences\n",
        "  \"\"\"\n",
        "\n",
        "    input_batch = []\n",
        "    target_batch = []\n",
        "\n",
        "    for sen in sentences:\n",
        "        word = sen.split()\n",
        "        input = [word_dict[n] for n in word[:-1]]\n",
        "        target = word_dict[word[-1]]\n",
        "\n",
        "        input_batch.append(input)\n",
        "        target_batch.append(target)\n",
        "\n",
        "    return input_batch, target_batch\n"
      ]
    },
    {
      "cell_type": "code",
      "source": [
        "class NNLM(nn.Module):\n",
        "    \"\"\"\n",
        "  implementation of Neural Probabilistic Language Model.\n",
        "\n",
        "  \"\"\"\n",
        "    def __init__(self):\n",
        "        super(NNLM, self).__init__()\n",
        "        self.C = nn.Embedding(n_class, m)\n",
        "        self.H = nn.Linear(n_step * m, n_hidden, bias=False)\n",
        "        self.d = nn.Parameter(torch.ones(n_hidden))\n",
        "        self.U = nn.Linear(n_hidden, n_class, bias=False)\n",
        "        self.W = nn.Linear(n_step * m, n_class, bias=False)\n",
        "        self.b = nn.Parameter(torch.ones(n_class))\n",
        "\n",
        "    def forward(self, X):\n",
        "        \"\"\"\n",
        "      performs a forward operation on the on the class instance.\n",
        "\n",
        "      Inputs:\n",
        "      - X: a tensor of shape [batch_size, n_steps, m]\n",
        "      \"\"\"\n",
        "        X = self.C(X)  # X : [batch_size, n_steps, m]\n",
        "        X = X.view(-1, n_step * m)  # [batch_size, n_steps * m]\n",
        "        tanh = torch.tanh(self.d + self.H(X))  # [batch_size, n_hidden]\n",
        "        output = self.b + self.W(X) + self.U(tanh)  # [batch_size, n_class]\n",
        "        return output"
      ],
      "metadata": {
        "id": "TpWIdOYnDM-C"
      },
      "execution_count": null,
      "outputs": []
    },
    {
      "cell_type": "code",
      "source": [
        "if __name__ == '__main__':\n",
        "    n_step = 2  # number of steps, n-1 in paper\n",
        "    n_hidden = 2  # number of hidden size, h in paper\n",
        "    m = 2 # embedding size, m in paper\n",
        "\n",
        "    sentences = [\"I like dog\", \"I love coffee\", \"I hate milk\"]\n",
        "\n",
        "    word_list = \" \".join(sentences).split()  # getting all of the \n",
        "                                             # words in the sentences\n",
        "    word_list = list(set(word_list))  # getting the unique words\n",
        "    word_dict = {w: i for i, w in enumerate(word_list)}  # mapping words to \n",
        "                                                         # numbers\n",
        "    number_dict = {i: w for i, w in enumerate(word_list)}  # mapping numbers to \n",
        "                                                           # words\n",
        "    n_class = len(word_list)  # n_class is the vocabulary size\n",
        "\n",
        "    model = NNLM()\n",
        "\n",
        "    criterion = nn.CrossEntropyLoss()\n",
        "    optimizer = optim.Adam(model.parameters(), lr=0.001)\n",
        "\n",
        "    input_batch, target_batch = make_batch()\n",
        "    input_batch = torch.LongTensor(input_batch)\n",
        "    target_batch = torch.LongTensor(target_batch)\n",
        "\n",
        "    # Training the model\n",
        "    for epoch in range(5000):\n",
        "        optimizer.zero_grad()\n",
        "        output = model(input_batch)\n",
        "\n",
        "        # output : [batch_size, n_class]\n",
        "        # target_batch : [batch_size]\n",
        "\n",
        "        loss = criterion(output, target_batch)\n",
        "        if (epoch + 1) % 1000 == 0:\n",
        "            print('Epoch:', '%04d' % (epoch + 1), 'cost =',\n",
        "                  '{:.6f}'.format(loss))\n",
        "            \n",
        "        loss.backward()\n",
        "        optimizer.step()\n",
        "\n",
        "    # Predict\n",
        "    predictions = model(input_batch).data.max(1, keepdim=True)[1]\n",
        "\n",
        "    # Test\n",
        "    print([sen.split()[:2] for sen in sentences], '->',\n",
        "          [number_dict[n.item()] for n in predictions.squeeze()])\n",
        "\n"
      ],
      "metadata": {
        "id": "KB7rmGnmH5MP",
        "colab": {
          "base_uri": "https://localhost:8080/"
        },
        "outputId": "2369b545-d199-4491-d421-fe7712892755"
      },
      "execution_count": null,
      "outputs": [
        {
          "output_type": "stream",
          "name": "stdout",
          "text": [
            "Epoch: 1000 cost = 0.074641\n",
            "Epoch: 2000 cost = 0.012813\n",
            "Epoch: 3000 cost = 0.004531\n",
            "Epoch: 4000 cost = 0.002038\n",
            "Epoch: 5000 cost = 0.001022\n",
            "[['I', 'like'], ['I', 'love'], ['I', 'hate']] -> ['dog', 'coffef', 'milk']\n"
          ]
        }
      ]
    },
    {
      "cell_type": "code",
      "source": [
        ""
      ],
      "metadata": {
        "id": "QND5pFSHOkRF"
      },
      "execution_count": null,
      "outputs": []
    }
  ]
}